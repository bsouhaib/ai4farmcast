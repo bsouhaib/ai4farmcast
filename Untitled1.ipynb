{
 "cells": [
  {
   "cell_type": "code",
   "execution_count": 1,
   "id": "a89b41e4-56c5-464b-9e34-bbad917bd018",
   "metadata": {},
   "outputs": [],
   "source": [
    "import xarray as xr"
   ]
  },
  {
   "cell_type": "code",
   "execution_count": 2,
   "id": "8268db64-726b-4a3d-88a8-52e418d28c74",
   "metadata": {},
   "outputs": [],
   "source": [
    "import xarray as xr\n",
    "import pandas as pd\n",
    "import numpy as np\n",
    "import matplotlib.pyplot as plt\n",
    "import cartopy.crs as ccrs\n",
    "import cartopy.feature as cfeature\n",
    "import os\n",
    "from datetime import datetime\n",
    "import requests"
   ]
  },
  {
   "cell_type": "code",
   "execution_count": 3,
   "id": "60816354-1294-44b2-92c9-14075629cac6",
   "metadata": {},
   "outputs": [],
   "source": [
    "# 2. Define Region and Time\n",
    "KENYA_BBOX = [33.5, 42.0, -5.0, 5.5]  # [lon_min, lon_max, lat_min, lat_max]\n",
    "DATE_RANGE = pd.date_range('2022-01-01', '2022-12-31', freq='MS')"
   ]
  },
  {
   "cell_type": "code",
   "execution_count": 4,
   "id": "bb621e1b-e883-4999-8b1e-144217e856be",
   "metadata": {},
   "outputs": [],
   "source": [
    "# 3.1 Example: Download IMERG monthly data from GES DISC\n",
    "def download_imerg_monthly(year, month, out_dir=\"imerg_data\"):\n",
    "    os.makedirs(out_dir, exist_ok=True)\n",
    "    base_url = \"https://gpm1.gesdisc.eosdis.nasa.gov/data/GPM_L3/GPM_3IMERGM.06\"\n",
    "    date_str = f\"{year}{month:02d}01\"\n",
    "    filename = f\"3B-MO.MS.MRG.3IMERG.{date_str}-S000000-E235959.{year}{month:02d}01.V06B.HDF5\"\n",
    "    url = f\"{base_url}/{year}/{filename}\"\n",
    "    output_path = os.path.join(out_dir, filename)\n",
    "    print(f\"Downloading: {url}\")\n",
    "    \n",
    "    with requests.get(url, stream=True, auth=(\"YOUR_USERNAME\", \"YOUR_PASSWORD\")) as r:\n",
    "        r.raise_for_status()\n",
    "        with open(output_path, 'wb') as f:\n",
    "            for chunk in r.iter_content(chunk_size=8192):\n",
    "                f.write(chunk)\n",
    "    print(f\"Saved to {output_path}\")"
   ]
  },
  {
   "cell_type": "code",
   "execution_count": 5,
   "id": "0d3ee3e8-d14d-4f79-b90b-f9d5edf645f7",
   "metadata": {},
   "outputs": [
    {
     "ename": "ModuleNotFoundError",
     "evalue": "No module named 'h5py'",
     "output_type": "error",
     "traceback": [
      "\u001b[1;31m---------------------------------------------------------------------------\u001b[0m",
      "\u001b[1;31mModuleNotFoundError\u001b[0m                       Traceback (most recent call last)",
      "Cell \u001b[1;32mIn[5], line 1\u001b[0m\n\u001b[1;32m----> 1\u001b[0m \u001b[38;5;28;01mimport\u001b[39;00m \u001b[38;5;21;01mh5py\u001b[39;00m\n\u001b[0;32m      3\u001b[0m \u001b[38;5;28;01mdef\u001b[39;00m \u001b[38;5;21mload_imerg_file\u001b[39m(filepath):\n\u001b[0;32m      4\u001b[0m     \u001b[38;5;28;01mwith\u001b[39;00m h5py\u001b[38;5;241m.\u001b[39mFile(filepath, \u001b[38;5;124m'\u001b[39m\u001b[38;5;124mr\u001b[39m\u001b[38;5;124m'\u001b[39m) \u001b[38;5;28;01mas\u001b[39;00m f:\n",
      "\u001b[1;31mModuleNotFoundError\u001b[0m: No module named 'h5py'"
     ]
    }
   ],
   "source": [
    "import h5py\n",
    "\n",
    "def load_imerg_file(filepath):\n",
    "    with h5py.File(filepath, 'r') as f:\n",
    "        precip = f['Grid/precipitation'][()]\n",
    "        lat = f['Grid/lat'][:]\n",
    "        lon = f['Grid/lon'][:]\n",
    "    return xr.DataArray(precip, coords=[lat, lon], dims=[\"lat\", \"lon\"])\n"
   ]
  },
  {
   "cell_type": "code",
   "execution_count": null,
   "id": "d035d859-bf71-4e93-bed1-8f003f30c939",
   "metadata": {},
   "outputs": [],
   "source": []
  }
 ],
 "metadata": {
  "kernelspec": {
   "display_name": "xcast_new",
   "language": "python",
   "name": "xcast_new"
  },
  "language_info": {
   "codemirror_mode": {
    "name": "ipython",
    "version": 3
   },
   "file_extension": ".py",
   "mimetype": "text/x-python",
   "name": "python",
   "nbconvert_exporter": "python",
   "pygments_lexer": "ipython3",
   "version": "3.12.3"
  }
 },
 "nbformat": 4,
 "nbformat_minor": 5
}
