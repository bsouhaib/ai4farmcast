{
 "cells": [
  {
   "cell_type": "markdown",
   "metadata": {},
   "source": [
    "# Kenya 2022 Drought Evaluation using AI Weather Reforecasts\n",
    "This notebook evaluates the 2022 drought over Kenya using reforecasts from Pangu-Weather, GraphCast, and AIFS,\n",
    "with IMERG precipitation as the observational reference.\n",
    "\n",
    "**Variables**: Precipitation & Soil Moisture\n",
    "\n",
    "**Period**: January 2022 – December 2022"
   ]
  },
  {
   "cell_type": "code",
   "execution_count": null,
   "metadata": {},
   "outputs": [],
   "source": [
    "import xarray as xr"
   ]
  },
  {
   "cell_type": "code",
   "execution_count": null,
   "metadata": {},
   "outputs": [],
   "source": [
    "# 1. Setup and Imports\n",
    "import xarray as xr\n",
    "import pandas as pd\n",
    "import numpy as np\n",
    "import matplotlib.pyplot as plt\n",
    "import cartopy.crs as ccrs\n",
    "import cartopy.feature as cfeature\n",
    "import os\n",
    "from datetime import datetime\n",
    "import requests"
   ]
  },
  {
   "cell_type": "code",
   "execution_count": null,
   "metadata": {},
   "outputs": [],
   "source": [
    "# 2. Define Region and Time\n",
    "KENYA_BBOX = [33.5, 42.0, -5.0, 5.5]  # [lon_min, lon_max, lat_min, lat_max]\n",
    "DATE_RANGE = pd.date_range('2022-01-01', '2022-12-31', freq='MS')"
   ]
  },
  {
   "cell_type": "markdown",
   "metadata": {},
   "source": [
    "## 3. Download IMERG Data via NASA GES DISC API\n",
    "You'll need a NASA Earthdata Login (https://urs.earthdata.nasa.gov/).\n",
    "\n",
    "**Register and generate a `.netrc` file**:\n",
    "```\n",
    "machine urs.earthdata.nasa.gov\n",
    "login YOUR_USERNAME\n",
    "password YOUR_PASSWORD\n",
    "```"
   ]
  },
  {
   "cell_type": "code",
   "execution_count": null,
   "metadata": {},
   "outputs": [],
   "source": [
    "# 3.1 Example: Download IMERG monthly data from GES DISC\n",
    "def download_imerg_monthly(year, month, out_dir=\"imerg_data\"):\n",
    "    os.makedirs(out_dir, exist_ok=True)\n",
    "    base_url = \"https://gpm1.gesdisc.eosdis.nasa.gov/data/GPM_L3/GPM_3IMERGM.06\"\n",
    "    date_str = f\"{year}{month:02d}01\"\n",
    "    filename = f\"3B-MO.MS.MRG.3IMERG.{date_str}-S000000-E235959.{year}{month:02d}01.V06B.HDF5\"\n",
    "    url = f\"{base_url}/{year}/{filename}\"\n",
    "    output_path = os.path.join(out_dir, filename)\n",
    "    print(f\"Downloading: {url}\")\n",
    "    \n",
    "    with requests.get(url, stream=True, auth=(\"YOUR_USERNAME\", \"YOUR_PASSWORD\")) as r:\n",
    "        r.raise_for_status()\n",
    "        with open(output_path, 'wb') as f:\n",
    "            for chunk in r.iter_content(chunk_size=8192):\n",
    "                f.write(chunk)\n",
    "    print(f\"Saved to {output_path}\")\n",
    "\n",
    "# Example call for January 2022\n",
    "# download_imerg_monthly(2022, 1)"
   ]
  },
  {
   "cell_type": "markdown",
   "metadata": {},
   "source": [
    "## 4. Open and Plot IMERG Data"
   ]
  },
  {
   "cell_type": "code",
   "execution_count": null,
   "metadata": {},
   "outputs": [],
   "source": [
    "import h5py\n",
    "\n",
    "def load_imerg_file(filepath):\n",
    "    with h5py.File(filepath, 'r') as f:\n",
    "        precip = f['Grid/precipitation'][()]\n",
    "        lat = f['Grid/lat'][:]\n",
    "        lon = f['Grid/lon'][:]\n",
    "    return xr.DataArray(precip, coords=[lat, lon], dims=[\"lat\", \"lon\"])\n",
    "\n",
    "# Example usage (after download)\n",
    "# da = load_imerg_file(\"imerg_data/3B-MO.MS.MRG.3IMERG.20220101-S000000-E235959.20220101.V06B.HDF5\")\n",
    "# da.plot(cmap='YlGnBu'); plt.title(\"IMERG Precipitation (Jan 2022)\"); plt.show()"
   ]
  },
  {
   "cell_type": "markdown",
   "metadata": {},
   "source": [
    "## 5. Load Pangu-Weather Forecast Data from AWS Open Data"
   ]
  },
  {
   "cell_type": "code",
   "execution_count": null,
   "metadata": {},
   "outputs": [],
   "source": [
    "import s3fs\n",
    "\n",
    "def load_pangu_forecast(date_str=\"20220701\", hour=\"00\"):\n",
    "    fs = s3fs.S3FileSystem(anon=True)\n",
    "    prefix = f\"noaa-oar-mlwp-data/PANG_v100_GFS/{date_str}/\"\n",
    "    files = fs.ls(prefix)\n",
    "    file = next(f for f in files if f\"{date_str}{hour}_f000_f240\" in f and f.endswith(\".nc\"))\n",
    "    print(f\"Loading: s3://{file}\")\n",
    "    with fs.open(file, 'rb') as f:\n",
    "        ds = xr.open_dataset(f)\n",
    "    return ds\n",
    "\n",
    "# Example usage\n",
    "# ds_pangu = load_pangu_forecast(\"20220701\", \"00\")\n",
    "# ds_pangu['prcp'].isel(time=0).plot(cmap='Blues'); plt.title(\"Pangu Precipitation Forecast\"); plt.show()"
   ]
  }
 ],
 "metadata": {
  "kernelspec": {
   "display_name": "dashboard",
   "language": "python",
   "name": "dashboard"
  },
  "language_info": {
   "codemirror_mode": {
    "name": "ipython",
    "version": 3
   },
   "file_extension": ".py",
   "mimetype": "text/x-python",
   "name": "python",
   "nbconvert_exporter": "python",
   "pygments_lexer": "ipython3",
   "version": "3.12.9"
  }
 },
 "nbformat": 4,
 "nbformat_minor": 4
}
