{
 "cells": [
  {
   "cell_type": "code",
   "execution_count": null,
   "id": "0bfa0c1e-7d26-4b4d-88be-880f96b58646",
   "metadata": {},
   "outputs": [],
   "source": [
    "import xarray\n"
   ]
  },
  {
   "cell_type": "code",
   "execution_count": 1,
   "id": "3b757f69-643e-474e-8968-81ec5840bb08",
   "metadata": {},
   "outputs": [
    {
     "ename": "NameError",
     "evalue": "name 'ee' is not defined",
     "output_type": "error",
     "traceback": [
      "\u001b[31m---------------------------------------------------------------------------\u001b[39m",
      "\u001b[31mNameError\u001b[39m                                 Traceback (most recent call last)",
      "\u001b[36mCell\u001b[39m\u001b[36m \u001b[39m\u001b[32mIn[1]\u001b[39m\u001b[32m, line 1\u001b[39m\n\u001b[32m----> \u001b[39m\u001b[32m1\u001b[39m dataset = \u001b[43mee\u001b[49m.ImageCollection(\u001b[33m'\u001b[39m\u001b[33mUCSB-CHG/CHIRPS/DAILY\u001b[39m\u001b[33m'\u001b[39m).filter(\n\u001b[32m      2\u001b[39m     ee.Filter.date(\u001b[33m'\u001b[39m\u001b[33m2018-05-01\u001b[39m\u001b[33m'\u001b[39m, \u001b[33m'\u001b[39m\u001b[33m2018-05-03\u001b[39m\u001b[33m'\u001b[39m)\n\u001b[32m      3\u001b[39m )\n\u001b[32m      4\u001b[39m precipitation = dataset.select(\u001b[33m'\u001b[39m\u001b[33mprecipitation\u001b[39m\u001b[33m'\u001b[39m)\n\u001b[32m      5\u001b[39m precipitation_vis = {\n\u001b[32m      6\u001b[39m     \u001b[33m'\u001b[39m\u001b[33mmin\u001b[39m\u001b[33m'\u001b[39m: \u001b[32m1\u001b[39m,\n\u001b[32m      7\u001b[39m     \u001b[33m'\u001b[39m\u001b[33mmax\u001b[39m\u001b[33m'\u001b[39m: \u001b[32m17\u001b[39m,\n\u001b[32m      8\u001b[39m     \u001b[33m'\u001b[39m\u001b[33mpalette\u001b[39m\u001b[33m'\u001b[39m: [\u001b[33m'\u001b[39m\u001b[33m001137\u001b[39m\u001b[33m'\u001b[39m, \u001b[33m'\u001b[39m\u001b[33m0aab1e\u001b[39m\u001b[33m'\u001b[39m, \u001b[33m'\u001b[39m\u001b[33me7eb05\u001b[39m\u001b[33m'\u001b[39m, \u001b[33m'\u001b[39m\u001b[33mff4a2d\u001b[39m\u001b[33m'\u001b[39m, \u001b[33m'\u001b[39m\u001b[33me90000\u001b[39m\u001b[33m'\u001b[39m],\n\u001b[32m      9\u001b[39m }\n",
      "\u001b[31mNameError\u001b[39m: name 'ee' is not defined"
     ]
    }
   ],
   "source": [
    "dataset = ee.ImageCollection('UCSB-CHG/CHIRPS/DAILY').filter(\n",
    "    ee.Filter.date('2018-05-01', '2018-05-03')\n",
    ")\n",
    "precipitation = dataset.select('precipitation')\n",
    "precipitation_vis = {\n",
    "    'min': 1,\n",
    "    'max': 17,\n",
    "    'palette': ['001137', '0aab1e', 'e7eb05', 'ff4a2d', 'e90000'],\n",
    "}\n",
    "\n",
    "m = geemap.Map()\n",
    "m.set_center(17.93, 7.71, 2)\n",
    "m.add_layer(precipitation, precipitation_vis, 'Precipitation')\n",
    "m"
   ]
  },
  {
   "cell_type": "code",
   "execution_count": null,
   "id": "f93bae87-0d81-499d-ac0a-f3e05617e594",
   "metadata": {},
   "outputs": [],
   "source": []
  }
 ],
 "metadata": {
  "kernelspec": {
   "display_name": "dashboard",
   "language": "python",
   "name": "dashboard"
  },
  "language_info": {
   "codemirror_mode": {
    "name": "ipython",
    "version": 3
   },
   "file_extension": ".py",
   "mimetype": "text/x-python",
   "name": "python",
   "nbconvert_exporter": "python",
   "pygments_lexer": "ipython3",
   "version": "3.12.9"
  }
 },
 "nbformat": 4,
 "nbformat_minor": 5
}
